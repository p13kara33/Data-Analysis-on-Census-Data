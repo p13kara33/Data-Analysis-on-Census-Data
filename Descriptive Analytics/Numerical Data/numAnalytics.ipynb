{
 "cells": [
  {
   "cell_type": "code",
   "execution_count": 2,
   "metadata": {},
   "outputs": [],
   "source": [
    "import numpy as np\n",
    "import pandas as pd\n",
    "import matplotlib.pyplot as plt\n",
    "import seaborn as sns\n",
    "import scipy as s\n",
    "# import docx\n",
    "# import descr_tables as dt\n",
    "import dataframe_image as dfi\n",
    "%matplotlib inline"
   ]
  },
  {
   "cell_type": "code",
   "execution_count": 3,
   "metadata": {
    "scrolled": true
   },
   "outputs": [
    {
     "data": {
      "text/html": [
       "<div>\n",
       "<style scoped>\n",
       "    .dataframe tbody tr th:only-of-type {\n",
       "        vertical-align: middle;\n",
       "    }\n",
       "\n",
       "    .dataframe tbody tr th {\n",
       "        vertical-align: top;\n",
       "    }\n",
       "\n",
       "    .dataframe thead th {\n",
       "        text-align: right;\n",
       "    }\n",
       "</style>\n",
       "<table border=\"1\" class=\"dataframe\">\n",
       "  <thead>\n",
       "    <tr style=\"text-align: right;\">\n",
       "      <th></th>\n",
       "      <th>Person ID</th>\n",
       "      <th>Region</th>\n",
       "      <th>Residence Type</th>\n",
       "      <th>Family Composition</th>\n",
       "      <th>Population Base</th>\n",
       "      <th>Sex</th>\n",
       "      <th>Age</th>\n",
       "      <th>Marital Status</th>\n",
       "      <th>Student</th>\n",
       "      <th>Country of Birth</th>\n",
       "      <th>Health</th>\n",
       "      <th>Ethnic Group</th>\n",
       "      <th>Religion</th>\n",
       "      <th>Economic Activity</th>\n",
       "      <th>Occupation</th>\n",
       "      <th>Industry</th>\n",
       "      <th>Hours worked per week</th>\n",
       "      <th>No of hours</th>\n",
       "      <th>Approximated Social Grade</th>\n",
       "    </tr>\n",
       "  </thead>\n",
       "  <tbody>\n",
       "    <tr>\n",
       "      <th>0</th>\n",
       "      <td>7394816</td>\n",
       "      <td>E12000001</td>\n",
       "      <td>H</td>\n",
       "      <td>2</td>\n",
       "      <td>1</td>\n",
       "      <td>2</td>\n",
       "      <td>6</td>\n",
       "      <td>2</td>\n",
       "      <td>2</td>\n",
       "      <td>1</td>\n",
       "      <td>2</td>\n",
       "      <td>1</td>\n",
       "      <td>2</td>\n",
       "      <td>5</td>\n",
       "      <td>8</td>\n",
       "      <td>2</td>\n",
       "      <td>-9</td>\n",
       "      <td>NaN</td>\n",
       "      <td>4</td>\n",
       "    </tr>\n",
       "    <tr>\n",
       "      <th>1</th>\n",
       "      <td>7394832</td>\n",
       "      <td>E12000001</td>\n",
       "      <td>H</td>\n",
       "      <td>3</td>\n",
       "      <td>1</td>\n",
       "      <td>2</td>\n",
       "      <td>1</td>\n",
       "      <td>1</td>\n",
       "      <td>2</td>\n",
       "      <td>1</td>\n",
       "      <td>2</td>\n",
       "      <td>1</td>\n",
       "      <td>1</td>\n",
       "      <td>-9</td>\n",
       "      <td>-9</td>\n",
       "      <td>-9</td>\n",
       "      <td>-9</td>\n",
       "      <td>NaN</td>\n",
       "      <td>-9</td>\n",
       "    </tr>\n",
       "    <tr>\n",
       "      <th>2</th>\n",
       "      <td>7394719</td>\n",
       "      <td>E12000001</td>\n",
       "      <td>H</td>\n",
       "      <td>2</td>\n",
       "      <td>1</td>\n",
       "      <td>1</td>\n",
       "      <td>7</td>\n",
       "      <td>2</td>\n",
       "      <td>2</td>\n",
       "      <td>1</td>\n",
       "      <td>1</td>\n",
       "      <td>1</td>\n",
       "      <td>2</td>\n",
       "      <td>5</td>\n",
       "      <td>8</td>\n",
       "      <td>2</td>\n",
       "      <td>-9</td>\n",
       "      <td>NaN</td>\n",
       "      <td>2</td>\n",
       "    </tr>\n",
       "    <tr>\n",
       "      <th>3</th>\n",
       "      <td>7394840</td>\n",
       "      <td>E12000001</td>\n",
       "      <td>H</td>\n",
       "      <td>1</td>\n",
       "      <td>1</td>\n",
       "      <td>2</td>\n",
       "      <td>6</td>\n",
       "      <td>4</td>\n",
       "      <td>2</td>\n",
       "      <td>1</td>\n",
       "      <td>3</td>\n",
       "      <td>1</td>\n",
       "      <td>2</td>\n",
       "      <td>5</td>\n",
       "      <td>9</td>\n",
       "      <td>5</td>\n",
       "      <td>-9</td>\n",
       "      <td>NaN</td>\n",
       "      <td>4</td>\n",
       "    </tr>\n",
       "    <tr>\n",
       "      <th>4</th>\n",
       "      <td>7394711</td>\n",
       "      <td>E12000001</td>\n",
       "      <td>H</td>\n",
       "      <td>2</td>\n",
       "      <td>1</td>\n",
       "      <td>1</td>\n",
       "      <td>1</td>\n",
       "      <td>1</td>\n",
       "      <td>1</td>\n",
       "      <td>1</td>\n",
       "      <td>1</td>\n",
       "      <td>1</td>\n",
       "      <td>1</td>\n",
       "      <td>-9</td>\n",
       "      <td>-9</td>\n",
       "      <td>-9</td>\n",
       "      <td>-9</td>\n",
       "      <td>NaN</td>\n",
       "      <td>-9</td>\n",
       "    </tr>\n",
       "  </tbody>\n",
       "</table>\n",
       "</div>"
      ],
      "text/plain": [
       "   Person ID     Region Residence Type  Family Composition  Population Base  \\\n",
       "0    7394816  E12000001              H                   2                1   \n",
       "1    7394832  E12000001              H                   3                1   \n",
       "2    7394719  E12000001              H                   2                1   \n",
       "3    7394840  E12000001              H                   1                1   \n",
       "4    7394711  E12000001              H                   2                1   \n",
       "\n",
       "   Sex  Age  Marital Status  Student  Country of Birth  Health  Ethnic Group  \\\n",
       "0    2    6               2        2                 1       2             1   \n",
       "1    2    1               1        2                 1       2             1   \n",
       "2    1    7               2        2                 1       1             1   \n",
       "3    2    6               4        2                 1       3             1   \n",
       "4    1    1               1        1                 1       1             1   \n",
       "\n",
       "   Religion  Economic Activity  Occupation  Industry  Hours worked per week  \\\n",
       "0         2                  5           8         2                     -9   \n",
       "1         1                 -9          -9        -9                     -9   \n",
       "2         2                  5           8         2                     -9   \n",
       "3         2                  5           9         5                     -9   \n",
       "4         1                 -9          -9        -9                     -9   \n",
       "\n",
       "   No of hours  Approximated Social Grade  \n",
       "0          NaN                          4  \n",
       "1          NaN                         -9  \n",
       "2          NaN                          2  \n",
       "3          NaN                          4  \n",
       "4          NaN                         -9  "
      ]
     },
     "execution_count": 3,
     "metadata": {},
     "output_type": "execute_result"
    }
   ],
   "source": [
    "data = pd.read_csv(r\"C:\\\\Users\\\\Giorgis\\\\Desktop\\\\Projects\\\\ADTA coursework\\\\partI\\\\Census.csv\")\n",
    "data.head()"
   ]
  },
  {
   "cell_type": "code",
   "execution_count": 4,
   "metadata": {
    "scrolled": true
   },
   "outputs": [],
   "source": [
    "age_only = pd.DataFrame(data['Age'])\n",
    "hours = pd.DataFrame(data['No of hours'])"
   ]
  },
  {
   "cell_type": "markdown",
   "metadata": {},
   "source": [
    "# The frequency graph of the age attribute\n"
   ]
  },
  {
   "cell_type": "code",
   "execution_count": 5,
   "metadata": {},
   "outputs": [
    {
     "data": {
      "image/png": "[encoded data removed]",
      "text/plain": [
       "<Figure size 648x432 with 1 Axes>"
      ]
     },
     "metadata": {
      "needs_background": "light"
     },
     "output_type": "display_data"
    }
   ],
   "source": [
    "plt.figure(figsize=(9, 6))\n",
    "\n",
    "sns.set_style('whitegrid')\n",
    "\n",
    "ax = sns.countplot(x='Age', data=data, palette=[\"#ff692e\", \"#2e5cff\", \"#ffd12e\", \n",
    "                                                          \"#ff2e5c\", \"#5cff2e\", \"#ff0000\", \n",
    "                                                          \"#8b4513\", \"#ff7f50\"])\n",
    "\n",
    "\n",
    "ax.set_xlabel('Age Groups', size=20, fontweight='bold')\n",
    "ax.set_ylabel('Number of occurences', size=20, fontweight='bold')\n",
    "ax.set_title('Number of occurences per Age', size=30, fontweight='bold')\n",
    "\n",
    "# Altering the x axis labels values' names\n",
    "ax.set_xticklabels(('0 to 15', '16 to 24', '25 to 34', '35 to 44', '45 to 54',\n",
    "                   '55 to 64', '65 to 74', '75 and over')) \n",
    "\n",
    "plt.setp(ax.get_xticklabels(), size=11)\n",
    "\n",
    "plt.tight_layout()\n",
    "sns.despine()\n",
    "\n",
    "plt.savefig('freq_Age.jpeg')"
   ]
  },
  {
   "cell_type": "code",
   "execution_count": 44,
   "metadata": {},
   "outputs": [],
   "source": [
    "my_data = data\n",
    "col_name = 'Age'\n",
    "dictionary = {1: '0 to 15', 2: '16 to 24', 3: '25 to 34', 4: '35 to 44', 5: '45 to 54',\n",
    "       6: '55 to 64', 7: '65 to 74',\n",
    "       8: '75 and over'}"
   ]
  },
  {
   "cell_type": "code",
   "execution_count": 45,
   "metadata": {},
   "outputs": [],
   "source": [
    "freq_arr = my_data[col_name].value_counts(sort=True)\n",
    "perc_arr = my_data[col_name].value_counts(normalize=True, sort=True)\n",
    "percentages = []\n",
    "the_list = []\n",
    "\n",
    "for i in perc_arr.index:\n",
    "    val = perc_arr[i] * 100\n",
    "    val = round(val, 1)\n",
    "    percentages.append(str(val) + '%')\n",
    "\n",
    "cnt = 0\n",
    "for i in freq_arr.index:\n",
    "    col_descr = dictionary[i]\n",
    "    the_list.append([[col_descr], [freq_arr[i]], [percentages[cnt]]])\n",
    "    cnt += 1\n",
    "\n",
    "df = pd.DataFrame(the_list, columns=[col_name, 'Frequency', 'Percentages'])"
   ]
  },
  {
   "cell_type": "code",
   "execution_count": 46,
   "metadata": {},
   "outputs": [
    {
     "data": {
      "text/html": [
       "<div>\n",
       "<style scoped>\n",
       "    .dataframe tbody tr th:only-of-type {\n",
       "        vertical-align: middle;\n",
       "    }\n",
       "\n",
       "    .dataframe tbody tr th {\n",
       "        vertical-align: top;\n",
       "    }\n",
       "\n",
       "    .dataframe thead th {\n",
       "        text-align: right;\n",
       "    }\n",
       "</style>\n",
       "<table border=\"1\" class=\"dataframe\">\n",
       "  <thead>\n",
       "    <tr style=\"text-align: right;\">\n",
       "      <th></th>\n",
       "      <th>Age</th>\n",
       "      <th>Frequency</th>\n",
       "      <th>Percentages</th>\n",
       "    </tr>\n",
       "  </thead>\n",
       "  <tbody>\n",
       "    <tr>\n",
       "      <th>0</th>\n",
       "      <td>[0 to 15]</td>\n",
       "      <td>[106832]</td>\n",
       "      <td>[18.8%]</td>\n",
       "    </tr>\n",
       "    <tr>\n",
       "      <th>1</th>\n",
       "      <td>[35 to 44]</td>\n",
       "      <td>[78641]</td>\n",
       "      <td>[13.8%]</td>\n",
       "    </tr>\n",
       "    <tr>\n",
       "      <th>2</th>\n",
       "      <td>[45 to 54]</td>\n",
       "      <td>[77388]</td>\n",
       "      <td>[13.6%]</td>\n",
       "    </tr>\n",
       "    <tr>\n",
       "      <th>3</th>\n",
       "      <td>[25 to 34]</td>\n",
       "      <td>[75948]</td>\n",
       "      <td>[13.3%]</td>\n",
       "    </tr>\n",
       "    <tr>\n",
       "      <th>4</th>\n",
       "      <td>[16 to 24]</td>\n",
       "      <td>[72785]</td>\n",
       "      <td>[12.8%]</td>\n",
       "    </tr>\n",
       "    <tr>\n",
       "      <th>5</th>\n",
       "      <td>[55 to 64]</td>\n",
       "      <td>[65665]</td>\n",
       "      <td>[11.5%]</td>\n",
       "    </tr>\n",
       "    <tr>\n",
       "      <th>6</th>\n",
       "      <td>[65 to 74]</td>\n",
       "      <td>[48777]</td>\n",
       "      <td>[8.6%]</td>\n",
       "    </tr>\n",
       "    <tr>\n",
       "      <th>7</th>\n",
       "      <td>[75 and over]</td>\n",
       "      <td>[43704]</td>\n",
       "      <td>[7.7%]</td>\n",
       "    </tr>\n",
       "  </tbody>\n",
       "</table>\n",
       "</div>"
      ],
      "text/plain": [
       "             Age Frequency Percentages\n",
       "0      [0 to 15]  [106832]     [18.8%]\n",
       "1     [35 to 44]   [78641]     [13.8%]\n",
       "2     [45 to 54]   [77388]     [13.6%]\n",
       "3     [25 to 34]   [75948]     [13.3%]\n",
       "4     [16 to 24]   [72785]     [12.8%]\n",
       "5     [55 to 64]   [65665]     [11.5%]\n",
       "6     [65 to 74]   [48777]      [8.6%]\n",
       "7  [75 and over]   [43704]      [7.7%]"
      ]
     },
     "execution_count": 46,
     "metadata": {},
     "output_type": "execute_result"
    }
   ],
   "source": [
    "df"
   ]
  },
  {
   "cell_type": "code",
   "execution_count": 24,
   "metadata": {},
   "outputs": [],
   "source": [
    "mydf = pd.DataFrame(data['No of hours'])\n",
    "df = mydf.describe()\n",
    "df.dfi.export('df.png')\n",
    "df_styled = df.style.set_properties(**{'background-color': '#ffa07a',\n",
    "                           'color': '#661d00',\n",
    "                           'border-color': 'black'})\n",
    "df_styled.export_png('df_styled.png')\n"
   ]
  },
  {
   "cell_type": "markdown",
   "metadata": {},
   "source": [
    "# Dealing with the missing data in the \"No of hours\" column\n"
   ]
  },
  {
   "cell_type": "code",
   "execution_count": 42,
   "metadata": {},
   "outputs": [],
   "source": [
    "data = data[(data['No of hours'].notna())]"
   ]
  },
  {
   "cell_type": "markdown",
   "metadata": {},
   "source": [
    "# The distribution of the 'No of hours' without missing values"
   ]
  },
  {
   "cell_type": "code",
   "execution_count": 53,
   "metadata": {},
   "outputs": [
    {
     "data": {
      "image/png": "[encoded data removed]",
      "text/plain": [
       "<Figure size 648x432 with 1 Axes>"
      ]
     },
     "metadata": {},
     "output_type": "display_data"
    }
   ],
   "source": [
    "plt.figure(figsize=(9, 6))\n",
    "\n",
    "sns.set_style('whitegrid')\n",
    "\n",
    "ax = sns.distplot(data['No of hours'], bins=8, kde=False)\n",
    "\n",
    "\n",
    "ax.set_xlabel('No of Hours', size=20, fontweight='bold')\n",
    "ax.set_title('Distribution of observations of \\nthe number of hours worked per week', size=30, fontweight='bold')\n",
    "\n",
    "# Altering the x axis labels values' names\n",
    "\n",
    "\n",
    "plt.setp(ax.get_xticklabels(), size=11)\n",
    "\n",
    "plt.tight_layout()\n",
    "sns.despine()\n",
    "\n",
    "# plt.savefig('freq_no_of_hours_without_nan.jpeg')"
   ]
  },
  {
   "cell_type": "code",
   "execution_count": null,
   "metadata": {},
   "outputs": [],
   "source": []
  }
 ],
 "metadata": {
  "kernelspec": {
   "display_name": "Python 3",
   "language": "python",
   "name": "python3"
  },
  "language_info": {
   "codemirror_mode": {
    "name": "ipython",
    "version": 3
   },
   "file_extension": ".py",
   "mimetype": "text/x-python",
   "name": "python",
   "nbconvert_exporter": "python",
   "pygments_lexer": "ipython3",
   "version": "3.8.3"
  }
 },
 "nbformat": 4,
 "nbformat_minor": 4
}
